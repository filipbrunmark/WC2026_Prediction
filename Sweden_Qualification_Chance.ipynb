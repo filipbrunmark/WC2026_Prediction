{
 "cells": [
  {
   "cell_type": "markdown",
   "id": "479bdae6-8c1a-448f-a6f2-0f4bf4fe4286",
   "metadata": {},
   "source": [
    "# What are the chances that Swedens wins it's qualification group? \n",
    "\n",
    "## Relevant information: \n",
    "* Group teams: Sweden, Switzerland, Kosovo, Slovenien\n",
    "* Each team plays 6 games in total, 2 against each team. \n",
    "\n",
    "## Strategy:\n",
    "\n",
    "* Step 1: Find a method for determining the probability for each match outcome.\n",
    "Here a simple elo based method could be used.\n",
    "* Then evaluated by seeing how it performs on historical data\n",
    "If it doesn’t perform well go back and implement a more advanced method (like poison goal models, xG-data and ML)\n",
    "\n",
    "Step 2: Run a monte carlo simulation of the group stage and see how many times sweden end on top.\n"
   ]
  },
  {
   "cell_type": "markdown",
   "id": "58914512-b461-4486-80a4-6c0f144e5812",
   "metadata": {},
   "source": [
    "## Sources\n",
    "* Calculating elo: https://www.kaggle.com/code/thomasstokes/custom-football-elo-rating"
   ]
  },
  {
   "cell_type": "markdown",
   "id": "b055aaba-8d33-4cab-9d5a-8905f7b81250",
   "metadata": {},
   "source": [
    "## Load data"
   ]
  },
  {
   "cell_type": "code",
   "execution_count": 2,
   "id": "bf8d7460-4fdf-444f-9936-65353651b870",
   "metadata": {},
   "outputs": [
    {
     "name": "stdout",
     "output_type": "stream",
     "text": [
      "Last updated: 2025-06-10\n"
     ]
    }
   ],
   "source": [
    "import kagglehub\n",
    "import pandas as pd\n",
    "\n",
    "# Download latest version\n",
    "path = kagglehub.dataset_download(\"martj42/international-football-results-from-1872-to-2017\")\n",
    "df = pd.read_csv(path+\"/results.csv\")\n",
    "\n",
    "print(\"Last updated: \" + df['date'].max())"
   ]
  },
  {
   "cell_type": "markdown",
   "id": "1c160c05-af70-475e-a769-22eacbfec009",
   "metadata": {},
   "source": [
    "## Calculate elo data"
   ]
  },
  {
   "cell_type": "code",
   "execution_count": 48,
   "id": "de802018-ba35-49ed-956b-7b982d2f55eb",
   "metadata": {},
   "outputs": [],
   "source": [
    "def calculate_team_a_expected_result(a_elo,b_elo):\n",
    "    return 1 / (1 + pow(10,-(a_elo-b_elo)/600))\n",
    "\n",
    "def update_elo_draw(a_elo, b_elo, i):\n",
    "    w = 0.5\n",
    "\n",
    "    new_a_elo = a_elo + i*(w - calculate_team_a_expected_result(a_elo, b_elo))\n",
    "    new_b_elo = b_elo + i*(w - calculate_team_a_expected_result(b_elo,a_elo))\n",
    "    return (new_a_elo, new_b_elo)\n",
    "\n",
    "def update_elo_win(win_elo, loss_elo, i):\n",
    "    w_win = 1\n",
    "    w_loss = 0\n",
    "\n",
    "    new_win_elo = win_elo + i*(w_win - calculate_team_a_expected_result(win_elo, loss_elo))\n",
    "    new_loss_elo = loss_elo + i*(w_loss - calculate_team_a_expected_result(loss_elo,win_elo))\n",
    "    return (new_win_elo, new_loss_elo)"
   ]
  },
  {
   "cell_type": "markdown",
   "id": "974d5094",
   "metadata": {},
   "source": [
    "### Add game importance"
   ]
  },
  {
   "cell_type": "code",
   "execution_count": 58,
   "id": "fa13fad9",
   "metadata": {},
   "outputs": [],
   "source": [
    "df['tournament'].str.lower().unique() #just to check all the unique games, printable\n",
    "\n",
    "friendlies = ['friendly']\n",
    "nations_leauge = ['uefa nations leauge']\n",
    "qualifications = ['fifa world cup qualification', 'afc asian cup qualification', 'copa américa qualification',\n",
    "                   'uefa euro qualification', 'concacaf championship qualification', 'african cup of nations qualification']\n",
    "confederation_finals = ['copa américa', 'uefa euro', 'african cup of nations', 'concaf championship', 'afc asian cup', \n",
    "        'oceania nations cup', 'confederations cup']\n",
    "world_cup = ['fifa world cup']\n",
    "\n",
    "#retrieve match type and assign importance of game based on the match partitioning above\n",
    "def game_importance_score(row):\n",
    "    tournament = row['tournament'].lower()\n",
    "    \n",
    "    if tournament in friendlies:\n",
    "        return 10\n",
    "\n",
    "    if tournament in nations_leauge:\n",
    "        return 15\n",
    "    \n",
    "    if tournament in qualifications:\n",
    "        return 25\n",
    "\n",
    "    if tournament in confederation_finals:\n",
    "        return 35\n",
    "    \n",
    "    if tournament in world_cup:\n",
    "        return 60\n",
    "\n",
    "    \n",
    "    return 10\n",
    "\n",
    "df['importance'] = df.apply(game_importance_score, axis = 1)"
   ]
  },
  {
   "cell_type": "markdown",
   "id": "1a49dba7",
   "metadata": {},
   "source": [
    "### Add elo"
   ]
  },
  {
   "cell_type": "code",
   "execution_count": 61,
   "id": "e0940a97-c2e0-471a-a60e-6c9237d42c76",
   "metadata": {},
   "outputs": [],
   "source": [
    "all_countries = pd.unique(pd.concat([df['home_team'], df['away_team']]))\n",
    "\n",
    "elo_home = []\n",
    "elo_away = []\n",
    "\n",
    "current_elo = {}\n",
    "for country in all_countries:\n",
    "    current_elo[country] = 1000\n",
    "\n",
    "\n",
    "for index,row in df.iterrows():\n",
    "    home_team = row.home_team\n",
    "    away_team = row.away_team\n",
    "    home_score = row.home_score\n",
    "    away_score = row.away_score\n",
    "    i = 10\n",
    "    score_diff = home_score-away_score\n",
    "    \n",
    "    home_current_elo = current_elo[home_team]\n",
    "    away_current_elo = current_elo[away_team]\n",
    "    \n",
    "\n",
    "    home_win = (score_diff)>0\n",
    "    \n",
    "    if (score_diff)>0:\n",
    "        (new_home_elo, new_away_elo) = update_elo_win(home_current_elo,away_current_elo,i) \n",
    "    elif (score_diff)==0:\n",
    "        (new_home_elo, new_away_elo) = update_elo_draw(home_current_elo,away_current_elo,i) \n",
    "    else:\n",
    "        (new_away_elo, new_home_elo) = update_elo_win(away_current_elo,home_current_elo,i)\n",
    "\n",
    "    # Update elo\n",
    "    current_elo[home_team] = new_home_elo\n",
    "    current_elo[away_team] = new_away_elo\n",
    "    elo_home.append(new_home_elo)\n",
    "    elo_away.append(new_away_elo)\n",
    "\n",
    "df['home_elo'] = elo_home\n",
    "df['away_elo'] = elo_away\n",
    "    "
   ]
  },
  {
   "cell_type": "code",
   "execution_count": 62,
   "id": "631f852a",
   "metadata": {},
   "outputs": [
    {
     "name": "stdout",
     "output_type": "stream",
     "text": [
      "            Country          Elo\n",
      "35            Spain  1498.810986\n",
      "31           Brazil  1484.666488\n",
      "8         Argentina  1469.951097\n",
      "10           France  1449.058901\n",
      "1           England  1409.385786\n",
      "19          Germany  1397.012821\n",
      "13      Netherlands  1389.067996\n",
      "49         Portugal  1388.981159\n",
      "20            Italy  1359.287165\n",
      "96             Iran  1356.011792\n",
      "32            Japan  1350.856076\n",
      "9           Belgium  1333.070806\n",
      "78         Colombia  1323.133276\n",
      "106     South Korea  1311.870117\n",
      "84          Croatia  1311.503140\n",
      "55           Mexico  1297.993398\n",
      "51        Australia  1286.845461\n",
      "137         Morocco  1284.182796\n",
      "5           Uruguay  1283.090337\n",
      "36            Egypt  1276.391475\n",
      "151         Senegal  1273.540299\n",
      "26          Denmark  1271.104271\n",
      "4     United States  1268.635471\n",
      "140     Ivory Coast  1249.258475\n",
      "157         Algeria  1248.905543\n",
      "17      Switzerland  1244.642533\n",
      "23           Russia  1240.649756\n",
      "12           Jersey  1235.884248\n",
      "18           Sweden  1226.510336\n",
      "226         Ukraine  1213.922752\n",
      "135         Tunisia  1210.668991\n",
      "53           Turkey  1202.862163\n",
      "111         Nigeria  1201.580832\n",
      "237          Serbia  1199.407555\n",
      "80          Ecuador  1198.955870\n",
      "43           Poland  1197.892023\n",
      "229      Uzbekistan  1195.661583\n",
      "143        Cameroon  1190.399078\n",
      "235  Czech Republic  1188.520681\n",
      "6           Austria  1178.370515\n",
      "108    South Africa  1175.486765\n",
      "11         Guernsey  1171.735857\n",
      "34           Greece  1169.244440\n",
      "22           Norway  1167.876702\n",
      "148            Iraq  1167.689208\n",
      "38           Canada  1160.821542\n",
      "21            Chile  1160.388270\n",
      "44       Yugoslavia  1159.695537\n",
      "177           Qatar  1157.061120\n",
      "171    Saudi Arabia  1150.894243\n"
     ]
    }
   ],
   "source": [
    "countries = list(current_elo.keys())\n",
    "elo = list(current_elo.values())\n",
    "\n",
    "df_current_elo = pd.DataFrame(data={'Country': countries, 'Elo': elo})\n",
    "\n",
    "# print(countries)\n",
    "# print(elo)\n",
    "print(df_current_elo.sort_values('Elo', ascending=False).head(50))"
   ]
  },
  {
   "cell_type": "markdown",
   "id": "49859e85-8eb0-4683-ba30-8f7bea9fe7c3",
   "metadata": {},
   "source": [
    "## Step 1:"
   ]
  },
  {
   "cell_type": "markdown",
   "id": "06892287-a966-4023-9670-41bb886d4019",
   "metadata": {},
   "source": [
    "### Function for determining match statistics:"
   ]
  },
  {
   "cell_type": "code",
   "execution_count": null,
   "id": "92f23a4a-e43d-48f7-a708-cfca920dd314",
   "metadata": {},
   "outputs": [],
   "source": []
  }
 ],
 "metadata": {
  "kernelspec": {
   "display_name": "Python 3",
   "language": "python",
   "name": "python3"
  },
  "language_info": {
   "codemirror_mode": {
    "name": "ipython",
    "version": 3
   },
   "file_extension": ".py",
   "mimetype": "text/x-python",
   "name": "python",
   "nbconvert_exporter": "python",
   "pygments_lexer": "ipython3",
   "version": "3.11.3"
  }
 },
 "nbformat": 4,
 "nbformat_minor": 5
}
