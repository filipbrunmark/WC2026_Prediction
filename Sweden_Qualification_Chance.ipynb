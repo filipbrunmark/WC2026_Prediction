{
 "cells": [
  {
   "cell_type": "markdown",
   "id": "479bdae6-8c1a-448f-a6f2-0f4bf4fe4286",
   "metadata": {},
   "source": [
    "# What are the chances that Swedens wins it's qualification group? \n",
    "\n",
    "## Relevant information: \n",
    "* Group teams: Sweden, Switzerland, Kosovo, Slovenien\n",
    "* Each team plays 6 games in total, 2 against each team. \n",
    "\n",
    "## Strategy:\n",
    "\n",
    "### Step 1 Match result probability(MRP) method:\n",
    "* Find a method for determining the probability of each team scoring k amount of goals(ie. Poission dist) \n",
    "* Find an evaluation method, then evaluate on historical data\n",
    "\n",
    "#### Elo and poisson method:\n",
    "* Calcualte elo in accordance with, https://www.kaggle.com/code/thomasstokes/custom-football-elo-rating\n",
    "* Fit two linear regression model, where the elo rating difference is fitted to the scored goals of the team, one model for home team and one for away team(this way we can incorporate home advanatge in our model) \n",
    "* Then set up a poisson distrubution for expected goals\n",
    "\n",
    "#### Evaluation method:\n",
    "\n",
    "\n",
    "### Step 2(MC simulate Qualification round):\n",
    "* Run a monte carlo simulation of the group stage and see how many times sweden ends on top.\n"
   ]
  },
  {
   "cell_type": "markdown",
   "id": "b055aaba-8d33-4cab-9d5a-8905f7b81250",
   "metadata": {},
   "source": [
    "## Load data"
   ]
  },
  {
   "cell_type": "code",
   "execution_count": 1,
   "id": "bf8d7460-4fdf-444f-9936-65353651b870",
   "metadata": {},
   "outputs": [
    {
     "name": "stdout",
     "output_type": "stream",
     "text": [
      "Last updated: 2025-06-10\n"
     ]
    }
   ],
   "source": [
    "import kagglehub\n",
    "import pandas as pd\n",
    "\n",
    "# Download latest version\n",
    "path = kagglehub.dataset_download(\"martj42/international-football-results-from-1872-to-2017\")\n",
    "df = pd.read_csv(path+\"/results.csv\")\n",
    "df['tournament'].str.lower().unique()\n",
    "\n",
    "print(\"Last updated: \" + df['date'].max())"
   ]
  },
  {
   "cell_type": "markdown",
   "id": "1c160c05-af70-475e-a769-22eacbfec009",
   "metadata": {},
   "source": [
    "## Make elo columns\n",
    "\n",
    "New columns info:\n",
    "* The new columns \"home_elo\" and \"away_elo\" represents the elo scorce each team recived after the match\n",
    "* The new columns \"elo_dff\" represents the elo difference befrore the match(home_elo-away_elo)\n",
    "* The new columns \"score_dff\" represents the score difference(home_elo-away_elo)\n",
    "* The new columns \"importance\" represents a quantification of the importance of match"
   ]
  },
  {
   "cell_type": "code",
   "execution_count": 2,
   "id": "de802018-ba35-49ed-956b-7b982d2f55eb",
   "metadata": {},
   "outputs": [],
   "source": [
    "from util import game_importance_score, update_elo\n",
    "\n",
    "### --- Append importance column --- ###\n",
    "df['importance'] = df.apply(game_importance_score, axis = 1)\n",
    "\n",
    "### --- Append elo columns --- ###\n",
    "all_countries = pd.unique(pd.concat([df['home_team'], df['away_team']]))\n",
    "elo_home = []\n",
    "elo_away = []\n",
    "elo_diff = []\n",
    "\n",
    "current_elo = {}\n",
    "for country in all_countries:\n",
    "    current_elo[country] = 1500\n",
    "\n",
    "for index,row in df.iterrows():\n",
    "    home_team = row.home_team\n",
    "    away_team = row.away_team\n",
    "    home_score = row.home_score\n",
    "    away_score = row.away_score\n",
    "    i = row.importance\n",
    "    \n",
    "    home_current_elo = current_elo[home_team]\n",
    "    away_current_elo = current_elo[away_team]\n",
    "    current_elo_diff = home_current_elo-away_current_elo\n",
    "\n",
    "    (new_home_elo, new_away_elo) = update_elo(home_current_elo, away_current_elo, (home_score-away_score), i)\n",
    "\n",
    "    # Update elo\n",
    "    current_elo[home_team] = new_home_elo\n",
    "    current_elo[away_team] = new_away_elo\n",
    "    elo_home.append(new_home_elo)\n",
    "    elo_away.append(new_away_elo)\n",
    "    elo_diff.append(current_elo_diff)\n",
    "\n",
    "\n",
    "df['home_elo'] = elo_home\n",
    "df['away_elo'] = elo_away\n",
    "df['elo_diff'] = elo_diff\n",
    "df['score_diff'] = df['home_score']-df['away_score']\n"
   ]
  },
  {
   "cell_type": "markdown",
   "id": "61c83e19",
   "metadata": {},
   "source": [
    "#### List current elo in descending order"
   ]
  },
  {
   "cell_type": "code",
   "execution_count": 3,
   "id": "631f852a",
   "metadata": {},
   "outputs": [
    {
     "name": "stdout",
     "output_type": "stream",
     "text": [
      "      Country          Elo\n",
      "8   Argentina  2130.339355\n",
      "35      Spain  2121.628003\n",
      "10     France  2110.234101\n",
      "31     Brazil  2045.682411\n",
      "1     England  2022.801725\n"
     ]
    }
   ],
   "source": [
    "countries = list(current_elo.keys())\n",
    "elo = list(current_elo.values())\n",
    "df_current_elo = pd.DataFrame(data={'Country': countries, 'Elo': elo})\n",
    "print(df_current_elo.sort_values('Elo', ascending=False).head(5))"
   ]
  },
  {
   "cell_type": "markdown",
   "id": "49859e85-8eb0-4683-ba30-8f7bea9fe7c3",
   "metadata": {},
   "source": [
    "## Step 1:"
   ]
  },
  {
   "cell_type": "markdown",
   "id": "06892287-a966-4023-9670-41bb886d4019",
   "metadata": {},
   "source": [
    "### Fit model :"
   ]
  },
  {
   "cell_type": "code",
   "execution_count": 4,
   "id": "3192a81b",
   "metadata": {},
   "outputs": [],
   "source": [
    "from util import MRP_Poisson_Dist\n",
    "\n",
    "mrp_model = MRP_Poisson_Dist()\n",
    "mrp_model.fit(elo_diff=df[['elo_diff']], home_score=df['home_score'], away_score=df['away_score'])"
   ]
  },
  {
   "cell_type": "markdown",
   "id": "ae46c471",
   "metadata": {},
   "source": [
    "## Step 2:\n",
    "\n",
    "### Group def"
   ]
  },
  {
   "cell_type": "code",
   "execution_count": 5,
   "id": "5d195370",
   "metadata": {},
   "outputs": [],
   "source": [
    "group_b_matches = { 'home_team': \n",
    "['Slovenia', 'Switzerland', 'Kosovo', 'Switzerland', 'Kosovo', 'Sweden', 'Slovenia', 'Sweden', 'Slovenia', 'Switzerland',\n",
    " 'Kosovo', 'Sweden' ],\n",
    "'away_team': ['Sweden', 'Kosovo', 'Sweden', 'Slovenia', 'Slovenia', 'Switzerland', 'Switzerland', 'Kosovo', 'Kosovo', 'Sweden', \n",
    "'Switzerland', 'Slovenia']    \n",
    " }\n",
    "\n",
    "df_group_b = pd.DataFrame(data=group_b_matches)"
   ]
  },
  {
   "cell_type": "markdown",
   "id": "74183339",
   "metadata": {},
   "source": [
    "### MC simulation"
   ]
  },
  {
   "cell_type": "code",
   "execution_count": 6,
   "id": "511dcd32",
   "metadata": {},
   "outputs": [
    {
     "name": "stdout",
     "output_type": "stream",
     "text": [
      "Chance of qualifying: 0.4\n"
     ]
    }
   ],
   "source": [
    "from util import simulate_group_play, get_placement\n",
    "N = 100\n",
    "number_of_qualifications = 0\n",
    "\n",
    "for n in range(0,N):\n",
    "    match_res = simulate_group_play(df_group_b, current_elo, mrp_model)\n",
    "    placement = get_placement(match_res)\n",
    "\n",
    "    if placement[0] == 'Sweden':\n",
    "        number_of_qualifications += 1\n",
    "\n",
    "\n",
    "print(f'Chance of qualifying: {number_of_qualifications/N}')"
   ]
  }
 ],
 "metadata": {
  "kernelspec": {
   "display_name": "Python 3",
   "language": "python",
   "name": "python3"
  },
  "language_info": {
   "codemirror_mode": {
    "name": "ipython",
    "version": 3
   },
   "file_extension": ".py",
   "mimetype": "text/x-python",
   "name": "python",
   "nbconvert_exporter": "python",
   "pygments_lexer": "ipython3",
   "version": "3.9.6"
  }
 },
 "nbformat": 4,
 "nbformat_minor": 5
}
