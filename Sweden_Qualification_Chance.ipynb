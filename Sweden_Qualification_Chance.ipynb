{
 "cells": [
  {
   "cell_type": "markdown",
   "id": "479bdae6-8c1a-448f-a6f2-0f4bf4fe4286",
   "metadata": {},
   "source": [
    "# What are the chances that Swedens wins it's qualification group? \n",
    "\n",
    "## Relevant information: \n",
    "* Group teams: Sweden, Switzerland, Kosovo, Slovenien\n",
    "* Each team plays 6 games in total, 2 against each team. \n",
    "\n",
    "## Strategy:\n",
    "\n",
    "### Step 1 Match result probability(MRP) method:\n",
    "* Find a method for determining the probability of each team scoring k amount of goals(ie. Poission dist) \n",
    "* Find an evaluation method, then evaluate on historical data\n",
    "\n",
    "#### Elo and poisson method:\n",
    "* Calcualte elo in accordance with, https://www.kaggle.com/code/thomasstokes/custom-football-elo-rating\n",
    "* Fit two linear regression model, where the elo rating difference is fitted to the scored goals of the team, one model for home team and one for away team(this way we can incorporate home advanatge in our model) \n",
    "* Then set up a poisson distrubution for expected goals\n",
    "\n",
    "#### Evaluation method:\n",
    "\n",
    "\n",
    "### Step 2(MC simulate Qualification round):\n",
    "* Run a monte carlo simulation of the group stage and see how many times sweden ends on top.\n"
   ]
  },
  {
   "cell_type": "markdown",
   "id": "b055aaba-8d33-4cab-9d5a-8905f7b81250",
   "metadata": {},
   "source": [
    "## Load data"
   ]
  },
  {
   "cell_type": "code",
   "execution_count": 1,
   "id": "bf8d7460-4fdf-444f-9936-65353651b870",
   "metadata": {},
   "outputs": [
    {
     "name": "stdout",
     "output_type": "stream",
     "text": [
      "Last updated: 2025-06-10\n"
     ]
    }
   ],
   "source": [
    "import kagglehub\n",
    "import pandas as pd\n",
    "\n",
    "# Download latest version\n",
    "path = kagglehub.dataset_download(\"martj42/international-football-results-from-1872-to-2017\")\n",
    "df = pd.read_csv(path+\"/results.csv\")\n",
    "df['tournament'].str.lower().unique()\n",
    "\n",
    "print(\"Last updated: \" + df['date'].max())"
   ]
  },
  {
   "cell_type": "markdown",
   "id": "1c160c05-af70-475e-a769-22eacbfec009",
   "metadata": {},
   "source": [
    "## Make elo columns\n",
    "\n",
    "New columns info:\n",
    "* The new columns \"home_elo\" and \"away_elo\" represents the elo scorce each team recived after the match\n",
    "* The new columns \"elo_dff\" represents the elo difference befrore the match(home_elo-away_elo)\n",
    "* The new columns \"score_dff\" represents the score difference(home_elo-away_elo)\n",
    "* The new columns \"importance\" represents a quantification of the importance of match"
   ]
  },
  {
   "cell_type": "code",
   "execution_count": 16,
   "id": "de802018-ba35-49ed-956b-7b982d2f55eb",
   "metadata": {},
   "outputs": [],
   "source": [
    "from util import game_importance_score, update_elo_draw, update_elo_win\n",
    "\n",
    "### --- Append importance column --- ###\n",
    "df['importance'] = df.apply(game_importance_score, axis = 1)\n",
    "\n",
    "### --- Append elo columns --- ###\n",
    "all_countries = pd.unique(pd.concat([df['home_team'], df['away_team']]))\n",
    "elo_home = []\n",
    "elo_away = []\n",
    "elo_diff = []\n",
    "\n",
    "current_elo = {}\n",
    "for country in all_countries:\n",
    "    current_elo[country] = 1500\n",
    "\n",
    "for index,row in df.iterrows():\n",
    "    home_team = row.home_team\n",
    "    away_team = row.away_team\n",
    "    home_score = row.home_score\n",
    "    away_score = row.away_score\n",
    "    i = row.importance\n",
    "    score_diff = home_score-away_score\n",
    "    \n",
    "    home_current_elo = current_elo[home_team]\n",
    "    away_current_elo = current_elo[away_team]\n",
    "    current_elo_diff = home_current_elo-away_current_elo\n",
    "\n",
    "    home_win = (score_diff)>0\n",
    "    if (score_diff)>0:\n",
    "        (new_home_elo, new_away_elo) = update_elo_win(home_current_elo,away_current_elo,i) \n",
    "    elif (score_diff)==0:\n",
    "        (new_home_elo, new_away_elo) = update_elo_draw(home_current_elo,away_current_elo,i) \n",
    "    else:\n",
    "        (new_away_elo, new_home_elo) = update_elo_win(away_current_elo,home_current_elo,i)\n",
    "\n",
    "    # Update elo\n",
    "    current_elo[home_team] = new_home_elo\n",
    "    current_elo[away_team] = new_away_elo\n",
    "    elo_home.append(new_home_elo)\n",
    "    elo_away.append(new_away_elo)\n",
    "    elo_diff.append(current_elo_diff)\n",
    "\n",
    "\n",
    "df['home_elo'] = elo_home\n",
    "df['away_elo'] = elo_away\n",
    "df['elo_diff'] = elo_diff\n",
    "df['score_diff'] = df['home_score']-df['away_score']\n"
   ]
  },
  {
   "cell_type": "markdown",
   "id": "61c83e19",
   "metadata": {},
   "source": [
    "#### List current elo in descending order"
   ]
  },
  {
   "cell_type": "code",
   "execution_count": 17,
   "id": "631f852a",
   "metadata": {},
   "outputs": [
    {
     "name": "stdout",
     "output_type": "stream",
     "text": [
      "      Country          Elo\n",
      "8   Argentina  2130.339355\n",
      "35      Spain  2121.628003\n",
      "10     France  2110.234101\n",
      "31     Brazil  2045.682411\n",
      "1     England  2022.801725\n"
     ]
    }
   ],
   "source": [
    "countries = list(current_elo.keys())\n",
    "elo = list(current_elo.values())\n",
    "df_current_elo = pd.DataFrame(data={'Country': countries, 'Elo': elo})\n",
    "print(df_current_elo.sort_values('Elo', ascending=False).head(5))"
   ]
  },
  {
   "cell_type": "markdown",
   "id": "49859e85-8eb0-4683-ba30-8f7bea9fe7c3",
   "metadata": {},
   "source": [
    "## Step 1:"
   ]
  },
  {
   "cell_type": "markdown",
   "id": "06892287-a966-4023-9670-41bb886d4019",
   "metadata": {},
   "source": [
    "### Fit model :"
   ]
  },
  {
   "cell_type": "code",
   "execution_count": 18,
   "id": "3192a81b",
   "metadata": {},
   "outputs": [],
   "source": [
    "from util import MRP_Poisson_Dist\n",
    "\n",
    "mrp_model = MRP_Poisson_Dist()\n",
    "mrp_model.fit(elo_diff=df[['elo_diff']], home_score=df['home_score'], away_score=df['away_score'])"
   ]
  },
  {
   "cell_type": "markdown",
   "id": "fbad9126",
   "metadata": {},
   "source": [
    "#### Match result function"
   ]
  },
  {
   "cell_type": "code",
   "execution_count": 34,
   "id": "4c8d1446",
   "metadata": {},
   "outputs": [
    {
     "name": "stdout",
     "output_type": "stream",
     "text": [
      "Home: Sweden, Away: Algeria, Date: 2025-06-10\n",
      "Home elo: 1790.3248350290453, Away elo: 1783.7272618705604\n",
      "\n",
      "Simulated result: Home [2] - [3] Away\n"
     ]
    },
    {
     "name": "stderr",
     "output_type": "stream",
     "text": [
      "/Library/Frameworks/Python.framework/Versions/3.9/lib/python3.9/site-packages/sklearn/utils/validation.py:2739: UserWarning: X does not have valid feature names, but LinearRegression was fitted with feature names\n",
      "  warnings.warn(\n",
      "/Library/Frameworks/Python.framework/Versions/3.9/lib/python3.9/site-packages/sklearn/utils/validation.py:2739: UserWarning: X does not have valid feature names, but LinearRegression was fitted with feature names\n",
      "  warnings.warn(\n"
     ]
    }
   ],
   "source": [
    "test_match = df[df['home_team']=='Sweden'].iloc[528]\n",
    "print(f'Home: {test_match.home_team}, Away: {test_match.away_team}, Date: {test_match.date}')\n",
    "print(f'Home elo: {test_match.home_elo}, Away elo: {test_match.away_elo}')\n",
    "print('')\n",
    "\n",
    "(home_goals, away_goals) = mrp_model.random_res([[test_match.elo_diff]])\n",
    "\n",
    "print(f\"Simulated result: Home {home_goals} - {away_goals} Away\")"
   ]
  },
  {
   "cell_type": "markdown",
   "id": "ae46c471",
   "metadata": {},
   "source": [
    "## Step 2:\n",
    "\n",
    "### Simulate group play"
   ]
  },
  {
   "cell_type": "code",
   "execution_count": null,
   "id": "5d195370",
   "metadata": {},
   "outputs": [
    {
     "name": "stdout",
     "output_type": "stream",
     "text": [
      "      Home Team    Away Team\n",
      "0      Slovenia       Sweden\n",
      "1   Switzerland       Kosovo\n",
      "2        Kosovo       Sweden\n",
      "3   Switzerland     Slovenia\n",
      "4        Kosovo     Slovenia\n",
      "5        Sweden  Switzerland\n",
      "6      Slovenia  Switzerland\n",
      "7        Sweden       Kosovo\n",
      "8      Slovenia       Kosovo\n",
      "9   Switzerland       Sweden\n",
      "10       Kosovo  Switzerland\n",
      "11       Sweden     Slovenia\n"
     ]
    }
   ],
   "source": [
    "group_b_matches = { 'Home Team': \n",
    "['Slovenia', 'Switzerland', 'Kosovo', 'Switzerland', 'Kosovo', 'Sweden', 'Slovenia', 'Sweden', 'Slovenia', 'Switzerland',\n",
    " 'Kosovo', 'Sweden' ],\n",
    "'Away Team': ['Sweden', 'Kosovo', 'Sweden', 'Slovenia', 'Slovenia', 'Switzerland', 'Switzerland', 'Kosovo', 'Kosovo', 'Sweden', \n",
    "'Switzerland', 'Slovenia']    \n",
    " }\n",
    "\n",
    "df_group_b = pd.DataFrame(data=group_b_matches)\n",
    "\n",
    "print(df_group_b)"
   ]
  },
  {
   "cell_type": "code",
   "execution_count": null,
   "id": "fea52f2b",
   "metadata": {},
   "outputs": [],
   "source": [
    "# From datafram with all group matches in order\n",
    "def get_placement(df: pd.DataFrame, starting_elo: dict):\n",
    "    current_elo = starting_elo.copy()\n",
    "\n",
    "    for row in df.iterrows():\n",
    "        \n"
   ]
  }
 ],
 "metadata": {
  "kernelspec": {
   "display_name": "Python 3",
   "language": "python",
   "name": "python3"
  },
  "language_info": {
   "codemirror_mode": {
    "name": "ipython",
    "version": 3
   },
   "file_extension": ".py",
   "mimetype": "text/x-python",
   "name": "python",
   "nbconvert_exporter": "python",
   "pygments_lexer": "ipython3",
   "version": "3.9.6"
  }
 },
 "nbformat": 4,
 "nbformat_minor": 5
}
