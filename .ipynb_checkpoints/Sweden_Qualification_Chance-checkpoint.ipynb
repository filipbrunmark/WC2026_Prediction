{
 "cells": [
  {
   "cell_type": "markdown",
   "id": "479bdae6-8c1a-448f-a6f2-0f4bf4fe4286",
   "metadata": {},
   "source": [
    "# What are the chances that Swedens wins it's qualification group? \n",
    "\n",
    "## Relevant information: \n",
    "* Group teams: Sweden, Switzerland, Kosovo, Slovenien\n",
    "* Each team plays 6 games in total, 2 against each team. \n",
    "\n",
    "## Strategy:\n",
    "\n",
    "* Step 1: Find a method for determining the probability for each match outcome.\n",
    "Here a simple elo based method could be used.\n",
    "* Then evaluated by seeing how it performs on historical data\n",
    "If it doesn’t perform well go back and implement a more advanced method (like poison goal models, xG-data and ML)\n",
    "\n",
    "Step 2: Run a monte carlo simulation of the group stage and see how many times sweden end on top.\n"
   ]
  },
  {
   "cell_type": "markdown",
   "id": "58914512-b461-4486-80a4-6c0f144e5812",
   "metadata": {},
   "source": [
    "## Sources\n",
    "* Calculating elo: https://www.kaggle.com/code/thomasstokes/custom-football-elo-rating"
   ]
  },
  {
   "cell_type": "markdown",
   "id": "b055aaba-8d33-4cab-9d5a-8905f7b81250",
   "metadata": {},
   "source": [
    "## Load data"
   ]
  },
  {
   "cell_type": "code",
   "execution_count": 15,
   "id": "bf8d7460-4fdf-444f-9936-65353651b870",
   "metadata": {},
   "outputs": [
    {
     "name": "stdout",
     "output_type": "stream",
     "text": [
      "Lats updated: 2025-06-10\n"
     ]
    }
   ],
   "source": [
    "import kagglehub\n",
    "import pandas as pd\n",
    "\n",
    "# Download latest version\n",
    "path = kagglehub.dataset_download(\"martj42/international-football-results-from-1872-to-2017\")\n",
    "df = pd.read_csv(path+\"/results.csv\")\n",
    "\n",
    "print(\"Last updated: \" + df['date'].max())"
   ]
  },
  {
   "cell_type": "markdown",
   "id": "98a7581e-502b-44a3-ba10-b54b783c393e",
   "metadata": {},
   "source": [
    "## Calculate elo"
   ]
  },
  {
   "cell_type": "code",
   "execution_count": null,
   "id": "4ed47061-72d0-4eb2-a8a2-3848ed7162b9",
   "metadata": {},
   "outputs": [],
   "source": [
    "def cal_elo(ht,at)\n",
    "    lam = 1\n",
    "    return 1/(1 + exp(lam*(ht-at)))\n",
    "    \n",
    "def update_elo\n",
    "\n",
    "elo_reg = {}\n",
    "\n",
    "\n"
   ]
  },
  {
   "cell_type": "markdown",
   "id": "49859e85-8eb0-4683-ba30-8f7bea9fe7c3",
   "metadata": {},
   "source": [
    "## Step 1:"
   ]
  },
  {
   "cell_type": "markdown",
   "id": "06892287-a966-4023-9670-41bb886d4019",
   "metadata": {},
   "source": [
    "### Function for determining match statistics:"
   ]
  },
  {
   "cell_type": "code",
   "execution_count": null,
   "id": "92f23a4a-e43d-48f7-a708-cfca920dd314",
   "metadata": {},
   "outputs": [],
   "source": []
  }
 ],
 "metadata": {
  "kernelspec": {
   "display_name": "Python 3 (ipykernel)",
   "language": "python",
   "name": "python3"
  },
  "language_info": {
   "codemirror_mode": {
    "name": "ipython",
    "version": 3
   },
   "file_extension": ".py",
   "mimetype": "text/x-python",
   "name": "python",
   "nbconvert_exporter": "python",
   "pygments_lexer": "ipython3",
   "version": "3.9.6"
  }
 },
 "nbformat": 4,
 "nbformat_minor": 5
}
